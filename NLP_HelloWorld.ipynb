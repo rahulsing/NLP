{
 "cells": [
  {
   "cell_type": "code",
   "execution_count": 5,
   "metadata": {
    "collapsed": false
   },
   "outputs": [],
   "source": [
    "# this notebook is to showcase simple NLP use case\n",
    "# Use Case: Summarization of a news article\n",
    "# In this  there will summarization of a news article\n",
    "\n",
    "articleURL = \"http://www.gadgetsnow.com/tech-news/ouster-of-uber-ceo-travis-kalanick-has-a-lesson-for-indian-startups/articleshow/59306756.cms\"\n"
   ]
  },
  {
   "cell_type": "markdown",
   "metadata": {},
   "source": [
    "# 1. Get the required data for NLP"
   ]
  },
  {
   "cell_type": "code",
   "execution_count": 6,
   "metadata": {
    "collapsed": true
   },
   "outputs": [],
   "source": [
    "# importing the required library for downloading the web page article\n",
    "import urllib2\n",
    "# for parsing the web page, formatting and extracting useful section of page\n",
    "from bs4 import BeautifulSoup"
   ]
  },
  {
   "cell_type": "code",
   "execution_count": 29,
   "metadata": {
    "collapsed": false
   },
   "outputs": [],
   "source": [
    "# find the article tag(arttextxml), get the text out of if \n",
    "# you can inspect the page in browser and look for the tag name which conatins the article\n",
    "article_text = soup.find('arttextxml').text"
   ]
  },
  {
   "cell_type": "markdown",
   "metadata": {},
   "source": [
    "## 2. Preprocessing of the article"
   ]
  },
  {
   "cell_type": "code",
   "execution_count": 26,
   "metadata": {
    "collapsed": true
   },
   "outputs": [],
   "source": [
    "#importing the nltk required packages\n",
    "# 1. for tokenizing the a. sentances out of article, b. words out of sentances\n",
    "from nltk.tokenize import sent_tokenize,word_tokenize\n",
    "# to get the list of stop words\n",
    "from nltk.corpus import stopwords\n",
    "from string import punctuation\n",
    "\n",
    "#if you donot have nltk package avaible, fist execute this and insatll the packages\n",
    "# this will take time as it contains lots or packages and data for multiple languages\n",
    "#import nltk\n",
    "#nltk.download()"
   ]
  },
  {
   "cell_type": "code",
   "execution_count": 37,
   "metadata": {
    "collapsed": true
   },
   "outputs": [],
   "source": [
    "# only the required words will remain, other stop words will be removed\n",
    "word_list=[word for word in word_list if word not in _stopwords]\n",
    "word_list"
   ]
  },
  {
   "cell_type": "markdown",
   "metadata": {},
   "source": [
    "# 3. Finally Summarization"
   ]
  },
  {
   "cell_type": "code",
   "execution_count": 45,
   "metadata": {
    "collapsed": true
   },
   "outputs": [],
   "source": [
    "#now based on the word frequency score lets compute the sentence score \n",
    "#create a dictionary  with \n",
    "# keys -> sentances\n",
    "# values -> Significance Score\n",
    "\n",
    "from collections import defaultdict\n",
    "ranking = defaultdict(int) \n"
   ]
  },
  {
   "cell_type": "code",
   "execution_count": 55,
   "metadata": {
    "collapsed": false
   },
   "outputs": [
    {
     "data": {
      "text/plain": [
       "[19, 47, 67, 110, 66]"
      ]
     },
     "execution_count": 55,
     "metadata": {},
     "output_type": "execute_result"
    }
   ],
   "source": [
    "# 5 is the no. of ids to get the sentences from top based on relavace\n",
    "sents_idx = nlargest(5, ranking, key=ranking.get)\n",
    "sents_idx\n",
    "#these are top 4 senteces index ids, unordered"
   ]
  },
  {
   "cell_type": "code",
   "execution_count": 56,
   "metadata": {
    "collapsed": false
   },
   "outputs": [
    {
     "data": {
      "text/plain": [
       "[u\"From RBI's draft guidelines for the industry to Digital India, FairCent benefitted and looks to grow further in 2017.\\u201cFrom disbursing `20 lakh a month, we are now disbursing loans worth `1.5 crore a month.India's shift to digital payments has put us in a sweet spot,\\u201c says Rajat Gandhi, who started the company in 2014 with Vinay Mathews.\",\n",
       " u'Founders: Jasminder Singh Gulati, Nitin Jain, Ronak Kumar Samantray & Neeraj SabharwalFRESHMENU: Online food deliveryThe food tech sector has faced fire for the last two years, but one of the few startups to emerge unscathed is FreshMenu, which cooks and delivers food from its own kitchens in Bengaluru, Mumbai, New Delhi and Gurugram.',\n",
       " u'Google India managing director and angel investor Rajan Anandan says the company has achieved the fastest zero to $5 million revenue in the e-commerce sector in India.',\n",
       " u\"Founder: Shan KadavilFLYROBE: Designer clothing rentalIt's just over a year since IIT-Bombay grads Pranay Surana, Shreya Mishra and Tushar Saxena started Flyrobe in September 2015 but they've already raised a total of $7 million from Sequoia Capital, IDG, GREE Ventures and angel investors.\",\n",
       " u'Even with The Companies Act of 2013 and guidelines issued by Securities and Exchange Board of India that made it mandatory for listed companies to have at least one woman on their boards, only 13.7% on public company boards are women.']"
      ]
     },
     "execution_count": 56,
     "metadata": {},
     "output_type": "execute_result"
    }
   ],
   "source": [
    "[sents[j] for j in sorted(sents_idx)]"
   ]
  },
  {
   "cell_type": "code",
   "execution_count": null,
   "metadata": {
    "collapsed": true
   },
   "outputs": [],
   "source": []
  }
 ],
 "metadata": {
  "kernelspec": {
   "display_name": "Python [conda root]",
   "language": "python",
   "name": "conda-root-py"
  },
  "language_info": {
   "codemirror_mode": {
    "name": "ipython",
    "version": 2
   },
   "file_extension": ".py",
   "mimetype": "text/x-python",
   "name": "python",
   "nbconvert_exporter": "python",
   "pygments_lexer": "ipython2",
   "version": "2.7.12"
  }
 },
 "nbformat": 4,
 "nbformat_minor": 1
}
